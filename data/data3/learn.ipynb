{
 "cells": [
  {
   "cell_type": "code",
   "execution_count": 19,
   "metadata": {},
   "outputs": [
    {
     "name": "stdout",
     "output_type": "stream",
     "text": [
      "(16913, 37)\n"
     ]
    }
   ],
   "source": [
    "import numpy as np\n",
    "import pandas as pd\n",
    "import matplotlib.pyplot as plt\n",
    "\n",
    "df = pd.read_csv('confessions.csv')\n",
    "\n",
    "# See the database before doing anything\n",
    "df.set_index('likes')\n",
    "print(df.shape)"
   ]
  },
  {
   "cell_type": "code",
   "execution_count": 20,
   "metadata": {},
   "outputs": [
    {
     "name": "stdout",
     "output_type": "stream",
     "text": [
      "<class 'pandas.core.frame.DataFrame'>\n",
      "RangeIndex: 16913 entries, 0 to 16912\n",
      "Data columns (total 37 columns):\n",
      "college             16913 non-null object\n",
      "month               16913 non-null int64\n",
      "followers           16913 non-null int64\n",
      "isUniversity        16913 non-null int64\n",
      "len_char            16913 non-null int64\n",
      "len_words           16913 non-null int64\n",
      "likes               16913 non-null int64\n",
      "shares              16913 non-null int64\n",
      "comments            16913 non-null int64\n",
      "Food                16913 non-null int64\n",
      "Clothing            16913 non-null int64\n",
      "Entertainment       16913 non-null int64\n",
      "health              16913 non-null int64\n",
      "Men                 16913 non-null int64\n",
      "Depression          16913 non-null int64\n",
      "Religion            16913 non-null int64\n",
      "Relationship        16913 non-null int64\n",
      "Society             16913 non-null int64\n",
      "Holidays            16913 non-null int64\n",
      "Vacation            16913 non-null int64\n",
      "Technology          16913 non-null int64\n",
      "Money               16913 non-null int64\n",
      "Studies             16913 non-null int64\n",
      "residence           16913 non-null int64\n",
      "social_media        16913 non-null int64\n",
      "Music               16913 non-null int64\n",
      "Weather             16913 non-null int64\n",
      "sex                 16913 non-null int64\n",
      "Party               16913 non-null int64\n",
      "Place_of_study      16913 non-null int64\n",
      "Family              16913 non-null int64\n",
      "women               16913 non-null int64\n",
      "politics            16913 non-null int64\n",
      "Positive_emotion    16913 non-null int64\n",
      "Negative_emotion    16913 non-null int64\n",
      "transportation      16913 non-null int64\n",
      "field_of_study      16913 non-null int64\n",
      "dtypes: int64(36), object(1)\n",
      "memory usage: 4.8+ MB\n",
      "None\n"
     ]
    }
   ],
   "source": [
    "print(df.info())"
   ]
  },
  {
   "cell_type": "code",
   "execution_count": 21,
   "metadata": {},
   "outputs": [
    {
     "name": "stdout",
     "output_type": "stream",
     "text": [
      "0\n",
      "              month     followers  isUniversity      len_char     len_words  \\\n",
      "count  16913.000000  16913.000000  16913.000000  16913.000000  16913.000000   \n",
      "mean       6.112931   6452.125229      0.421865    211.283096     39.587181   \n",
      "std        3.499175   6495.342696      0.493872    237.433288     44.807122   \n",
      "min        1.000000    462.000000      0.000000      0.000000      0.000000   \n",
      "25%        3.000000   1720.000000      0.000000     78.000000     15.000000   \n",
      "50%        5.000000   2953.000000      0.000000    128.000000     24.000000   \n",
      "75%        9.000000  11253.000000      1.000000    248.000000     46.000000   \n",
      "max       12.000000  20211.000000      1.000000   2931.000000    551.000000   \n",
      "\n",
      "              likes        shares      comments          Food      Clothing  \\\n",
      "count  16913.000000  16913.000000  16913.000000  16913.000000  16913.000000   \n",
      "mean       2.322533      0.140661      4.310589      0.094070      0.020872   \n",
      "std        1.027000      5.528055      7.515199      0.344862      0.161962   \n",
      "min        0.000000      0.000000      0.000000      0.000000      0.000000   \n",
      "25%        2.000000      0.000000      0.000000      0.000000      0.000000   \n",
      "50%        3.000000      0.000000      1.000000      0.000000      0.000000   \n",
      "75%        3.000000      0.000000      5.000000      0.000000      0.000000   \n",
      "max        4.000000    703.000000     48.000000      6.000000      4.000000   \n",
      "\n",
      "            ...                 sex         Party  Place_of_study  \\\n",
      "count       ...        16913.000000  16913.000000    16913.000000   \n",
      "mean        ...            0.109442      0.039496        0.123219   \n",
      "std         ...            0.378154      0.212212        0.365818   \n",
      "min         ...            0.000000      0.000000        0.000000   \n",
      "25%         ...            0.000000      0.000000        0.000000   \n",
      "50%         ...            0.000000      0.000000        0.000000   \n",
      "75%         ...            0.000000      0.000000        0.000000   \n",
      "max         ...            6.000000      3.000000        4.000000   \n",
      "\n",
      "             Family         women      politics  Positive_emotion  \\\n",
      "count  16913.000000  16913.000000  16913.000000      16913.000000   \n",
      "mean       0.042453      0.060131      0.098090          0.404541   \n",
      "std        0.230112      0.241928      0.376104          0.766653   \n",
      "min        0.000000      0.000000      0.000000          0.000000   \n",
      "25%        0.000000      0.000000      0.000000          0.000000   \n",
      "50%        0.000000      0.000000      0.000000          0.000000   \n",
      "75%        0.000000      0.000000      0.000000          1.000000   \n",
      "max        3.000000      2.000000      7.000000          8.000000   \n",
      "\n",
      "       Negative_emotion  transportation  field_of_study  \n",
      "count      16913.000000    16913.000000    16913.000000  \n",
      "mean           0.202625        0.013185        0.109856  \n",
      "std            0.515064        0.119637        0.384163  \n",
      "min            0.000000        0.000000        0.000000  \n",
      "25%            0.000000        0.000000        0.000000  \n",
      "50%            0.000000        0.000000        0.000000  \n",
      "75%            0.000000        0.000000        0.000000  \n",
      "max            6.000000        2.000000        6.000000  \n",
      "\n",
      "[8 rows x 36 columns]\n"
     ]
    }
   ],
   "source": [
    "print(df.isnull().sum().sum())\n",
    "print(df.describe())"
   ]
  },
  {
   "cell_type": "code",
   "execution_count": 22,
   "metadata": {},
   "outputs": [
    {
     "name": "stdout",
     "output_type": "stream",
     "text": [
      "Vacation           -0.005502\n",
      "Music              -0.000547\n",
      "transportation      0.001364\n",
      "Holidays            0.003952\n",
      "social_media        0.005191\n",
      "shares              0.006520\n",
      "Party               0.014590\n",
      "Family              0.019797\n",
      "Entertainment       0.021264\n",
      "women               0.021599\n",
      "Technology          0.022522\n",
      "Clothing            0.023481\n",
      "Men                 0.026515\n",
      "politics            0.028738\n",
      "Weather             0.032157\n",
      "Depression          0.036505\n",
      "field_of_study      0.043500\n",
      "Food                0.045809\n",
      "Place_of_study      0.048538\n",
      "residence           0.055491\n",
      "health              0.058152\n",
      "Negative_emotion    0.059478\n",
      "Money               0.060495\n",
      "sex                 0.060507\n",
      "Religion            0.061671\n",
      "Studies             0.069557\n",
      "Society             0.078925\n",
      "Positive_emotion    0.090692\n",
      "Relationship        0.102076\n",
      "month               0.117355\n",
      "len_char            0.140614\n",
      "len_words           0.141293\n",
      "likes               0.287207\n",
      "isUniversity        0.313351\n",
      "followers           0.380214\n",
      "comments            1.000000\n",
      "Name: comments, dtype: float64\n"
     ]
    }
   ],
   "source": [
    "# Find the correlation\n",
    "print(df.corr()['comments'].sort_values())"
   ]
  },
  {
   "cell_type": "code",
   "execution_count": 23,
   "metadata": {},
   "outputs": [
    {
     "name": "stdout",
     "output_type": "stream",
     "text": [
      "social_media       -0.091371\n",
      "Relationship       -0.087123\n",
      "Vacation           -0.064997\n",
      "Weather            -0.061435\n",
      "residence          -0.056025\n",
      "transportation     -0.046821\n",
      "Music              -0.035072\n",
      "sex                -0.024922\n",
      "Technology         -0.024110\n",
      "Men                -0.017499\n",
      "Positive_emotion   -0.015559\n",
      "month              -0.014993\n",
      "Holidays           -0.013040\n",
      "Society            -0.006981\n",
      "Place_of_study     -0.001454\n",
      "Money               0.001369\n",
      "Family              0.002206\n",
      "Party               0.006353\n",
      "len_words           0.014747\n",
      "len_char            0.016622\n",
      "field_of_study      0.021486\n",
      "politics            0.022065\n",
      "Negative_emotion    0.023251\n",
      "Entertainment       0.024945\n",
      "Religion            0.027933\n",
      "Depression          0.030382\n",
      "Clothing            0.031187\n",
      "Studies             0.048428\n",
      "Food                0.049799\n",
      "women               0.063212\n",
      "health              0.092824\n",
      "shares              0.161297\n",
      "likes               0.174809\n",
      "comments            1.000000\n",
      "followers                NaN\n",
      "isUniversity             NaN\n",
      "Name: comments, dtype: float64\n"
     ]
    }
   ],
   "source": [
    "# Remove outliers\n",
    "filtered_data = df[(df.college == 'Levinsky')]\n",
    "\n",
    "print(filtered_data.corr()['comments'].sort_values())"
   ]
  },
  {
   "cell_type": "code",
   "execution_count": 24,
   "metadata": {},
   "outputs": [
    {
     "data": {
      "text/plain": [
       "Text(0.5,1,'likes vs comments')"
      ]
     },
     "execution_count": 24,
     "metadata": {},
     "output_type": "execute_result"
    },
    {
     "data": {
      "image/png": "[encoded data removed]",
      "text/plain": [
       "<Figure size 432x288 with 1 Axes>"
      ]
     },
     "metadata": {
      "needs_background": "light"
     },
     "output_type": "display_data"
    }
   ],
   "source": [
    "plt.plot(filtered_data['likes'], filtered_data['comments'], 'o')\n",
    "plt.ylabel('comments')\n",
    "plt.xlabel('likes')\n",
    "plt.title('likes vs comments')"
   ]
  },
  {
   "cell_type": "code",
   "execution_count": null,
   "metadata": {},
   "outputs": [],
   "source": []
  }
 ],
 "metadata": {
  "kernelspec": {
   "display_name": "Python 3",
   "language": "python",
   "name": "python3"
  },
  "language_info": {
   "codemirror_mode": {
    "name": "ipython",
    "version": 3
   },
   "file_extension": ".py",
   "mimetype": "text/x-python",
   "name": "python",
   "nbconvert_exporter": "python",
   "pygments_lexer": "ipython3",
   "version": "3.7.0"
  }
 },
 "nbformat": 4,
 "nbformat_minor": 2
}
